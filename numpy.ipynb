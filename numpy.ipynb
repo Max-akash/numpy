{
 "cells": [
  {
   "cell_type": "code",
   "execution_count": 8,
   "id": "52e0fc4c",
   "metadata": {},
   "outputs": [
    {
     "data": {
      "text/plain": [
       "'1.21.5'"
      ]
     },
     "execution_count": 8,
     "metadata": {},
     "output_type": "execute_result"
    }
   ],
   "source": [
    "import numpy as np\n",
    "np.__version__"
   ]
  },
  {
   "cell_type": "markdown",
   "id": "32914f3b",
   "metadata": {},
   "source": [
    "# Creating 1D arrya using array function"
   ]
  },
  {
   "cell_type": "code",
   "execution_count": 17,
   "id": "b6655ab5",
   "metadata": {},
   "outputs": [
    {
     "name": "stdout",
     "output_type": "stream",
     "text": [
      "[1 2 3 4 5]\n",
      "int32\n",
      "(5,)\n",
      "5\n"
     ]
    }
   ],
   "source": [
    "a = np.array([1,2,3,4,5])\n",
    "print(a)\n",
    "print(a.dtype)\n",
    "print(a.shape)\n",
    "print(a.size)\n"
   ]
  },
  {
   "cell_type": "markdown",
   "id": "bb5e1f72",
   "metadata": {},
   "source": [
    "# Creating 2D arrya using array function"
   ]
  },
  {
   "cell_type": "code",
   "execution_count": 18,
   "id": "ad777151",
   "metadata": {},
   "outputs": [
    {
     "name": "stdout",
     "output_type": "stream",
     "text": [
      "[[1 2 3]\n",
      " [4 5 6]]\n",
      "int32\n",
      "(2, 3)\n",
      "6\n"
     ]
    }
   ],
   "source": [
    "b = np.array([[1,2,3],[4,5,6]])\n",
    "print(b)\n",
    "print(b.dtype)\n",
    "print(b.shape)\n",
    "print(b.size)"
   ]
  },
  {
   "cell_type": "markdown",
   "id": "650e3c9e",
   "metadata": {},
   "source": [
    "# Creating 3D arrya using array function"
   ]
  },
  {
   "cell_type": "code",
   "execution_count": 30,
   "id": "568837ac",
   "metadata": {},
   "outputs": [
    {
     "name": "stdout",
     "output_type": "stream",
     "text": [
      "[[[ 1  2  3]\n",
      "  [ 4  5  6]]\n",
      "\n",
      " [[ 7  8  9]\n",
      "  [10 11 12]]\n",
      "\n",
      " [[13 14 15]\n",
      "  [16 17 18]]]\n",
      "int32\n",
      "(3, 2, 3)\n",
      "18\n"
     ]
    }
   ],
   "source": [
    "c =np.array(\n",
    "        [\n",
    "        [[1,2,3],[4,5,6]],\n",
    "        [[7,8,9],[10,11,12]],\n",
    "        [[13,14,15],[16,17,18]]\n",
    "        ]\n",
    ")\n",
    "print(c)\n",
    "print(c.dtype)\n",
    "print(c.shape)\n",
    "print(c.size)\n"
   ]
  },
  {
   "cell_type": "markdown",
   "id": "f2152076",
   "metadata": {},
   "source": [
    "# creating 1D array using arange function"
   ]
  },
  {
   "cell_type": "code",
   "execution_count": 32,
   "id": "9fe0092f",
   "metadata": {},
   "outputs": [
    {
     "name": "stdout",
     "output_type": "stream",
     "text": [
      "[0 1 2 3 4 5 6 7 8 9]\n",
      "int32\n",
      "(10,)\n",
      "10\n"
     ]
    }
   ],
   "source": [
    "d =np.arange(10)\n",
    "print(d)\n",
    "print(d.dtype)\n",
    "print(d.shape)\n",
    "print(d.size)"
   ]
  },
  {
   "cell_type": "markdown",
   "id": "a68aa931",
   "metadata": {},
   "source": [
    "# creating 2D array using arange function"
   ]
  },
  {
   "cell_type": "code",
   "execution_count": 40,
   "id": "beb66bd1",
   "metadata": {},
   "outputs": [
    {
     "name": "stdout",
     "output_type": "stream",
     "text": [
      "[[ 0  1]\n",
      " [ 2  3]\n",
      " [ 4  5]\n",
      " [ 6  7]\n",
      " [ 8  9]\n",
      " [10 11]\n",
      " [12 13]\n",
      " [14 15]\n",
      " [16 17]]\n",
      "int32\n",
      "(9, 2)\n",
      "18\n"
     ]
    }
   ],
   "source": [
    "d =np.arange(18).reshape(9,2)\n",
    "print(d)\n",
    "print(d.dtype)\n",
    "print(d.shape)\n",
    "print(d.size)"
   ]
  },
  {
   "cell_type": "markdown",
   "id": "f0f75d93",
   "metadata": {},
   "source": [
    "# creating 3D array using arange function"
   ]
  },
  {
   "cell_type": "code",
   "execution_count": 93,
   "id": "beffb1c0",
   "metadata": {},
   "outputs": [
    {
     "name": "stdout",
     "output_type": "stream",
     "text": [
      "[[[ 0  1  2]\n",
      "  [ 3  4  5]]\n",
      "\n",
      " [[ 6  7  8]\n",
      "  [ 9 10 11]]\n",
      "\n",
      " [[12 13 14]\n",
      "  [15 16 17]]]\n",
      "int32\n",
      "(3, 2, 3)\n",
      "18\n"
     ]
    }
   ],
   "source": [
    "e =np.arange(18).reshape(3,2,3)\n",
    "print(e)\n",
    "print(e.dtype)\n",
    "print(e.shape)\n",
    "print(e.size)"
   ]
  },
  {
   "cell_type": "markdown",
   "id": "183a9199",
   "metadata": {},
   "source": [
    "# creating array using ones  (1D)"
   ]
  },
  {
   "cell_type": "code",
   "execution_count": 54,
   "id": "b71887ad",
   "metadata": {},
   "outputs": [
    {
     "data": {
      "text/plain": [
       "array([1., 1., 1., 1., 1., 1., 1., 1., 1., 1., 1., 1., 1., 1., 1., 1., 1.,\n",
       "       1.])"
      ]
     },
     "execution_count": 54,
     "metadata": {},
     "output_type": "execute_result"
    }
   ],
   "source": [
    "f =np.ones(18)\n",
    "f\n"
   ]
  },
  {
   "cell_type": "markdown",
   "id": "d736957b",
   "metadata": {},
   "source": [
    "# creating  ones array using (2D)"
   ]
  },
  {
   "cell_type": "code",
   "execution_count": 59,
   "id": "3e8a0958",
   "metadata": {},
   "outputs": [
    {
     "name": "stdout",
     "output_type": "stream",
     "text": [
      "[[1. 1. 1. 1. 1. 1. 1. 1. 1.]\n",
      " [1. 1. 1. 1. 1. 1. 1. 1. 1.]]\n",
      "float64\n",
      "(2, 9)\n",
      "18\n"
     ]
    }
   ],
   "source": [
    "g =np.ones(18).reshape(2,9)\n",
    "print(g)\n",
    "print(g.dtype)\n",
    "print(g.shape)\n",
    "print(g.size)"
   ]
  },
  {
   "cell_type": "markdown",
   "id": "e933c2a4",
   "metadata": {},
   "source": [
    "# creating  ones array using (3D)"
   ]
  },
  {
   "cell_type": "code",
   "execution_count": 62,
   "id": "93ef99e7",
   "metadata": {},
   "outputs": [
    {
     "data": {
      "text/plain": [
       "array([[[1., 1.],\n",
       "        [1., 1.]],\n",
       "\n",
       "       [[1., 1.],\n",
       "        [1., 1.]]])"
      ]
     },
     "execution_count": 62,
     "metadata": {},
     "output_type": "execute_result"
    }
   ],
   "source": [
    "h =np.ones(8).reshape(2,2,2)\n",
    "h"
   ]
  },
  {
   "cell_type": "markdown",
   "id": "b40f8945",
   "metadata": {},
   "source": [
    "# creating random num using 1D array"
   ]
  },
  {
   "cell_type": "code",
   "execution_count": 66,
   "id": "26ec3241",
   "metadata": {},
   "outputs": [
    {
     "name": "stdout",
     "output_type": "stream",
     "text": [
      "[ 5 17 17  3 16 19 14 18 10  3]\n",
      "int32\n",
      "(10,)\n"
     ]
    }
   ],
   "source": [
    "i =np.random.randint(20,size=10)\n",
    "print (i)\n",
    "print(i.dtype)\n",
    "print(i.shape)\n"
   ]
  },
  {
   "cell_type": "markdown",
   "id": "56faa515",
   "metadata": {},
   "source": [
    "# creating random num using 2D array"
   ]
  },
  {
   "cell_type": "code",
   "execution_count": 72,
   "id": "8aca273f",
   "metadata": {},
   "outputs": [
    {
     "name": "stdout",
     "output_type": "stream",
     "text": [
      "[[18 17 14 17 13 13]\n",
      " [11 17 15 10 13 19]\n",
      " [14 15 17 11 10 15]\n",
      " [11 11 17 16 19 13]\n",
      " [17 18 14 19 19 12]]\n",
      "int32\n",
      "(5, 6)\n"
     ]
    }
   ],
   "source": [
    "j =np.random.randint(10,20,size=(5,6))\n",
    "print(j)\n",
    "print(j.dtype)\n",
    "print(j.shape)\n"
   ]
  },
  {
   "cell_type": "markdown",
   "id": "3084da89",
   "metadata": {},
   "source": [
    "# creating random num using 3D array"
   ]
  },
  {
   "cell_type": "code",
   "execution_count": 77,
   "id": "829219dc",
   "metadata": {},
   "outputs": [
    {
     "name": "stdout",
     "output_type": "stream",
     "text": [
      "[[[11  8  8]\n",
      "  [ 7  8 10]]\n",
      "\n",
      " [[12  7 11]\n",
      "  [ 5  5 14]]\n",
      "\n",
      " [[13  8 12]\n",
      "  [ 7 13  5]]]\n",
      "int32\n",
      "(3, 2, 3)\n",
      "18\n"
     ]
    }
   ],
   "source": [
    "k =np.random.randint(5,15,size =(3,2,3))\n",
    "print(k)\n",
    "print(k.dtype)\n",
    "print(k.shape)\n",
    "print(k.size)"
   ]
  },
  {
   "cell_type": "markdown",
   "id": "5de34137",
   "metadata": {},
   "source": [
    "# create array with single low multipal high"
   ]
  },
  {
   "cell_type": "code",
   "execution_count": 86,
   "id": "1b8ed2ea",
   "metadata": {},
   "outputs": [
    {
     "name": "stdout",
     "output_type": "stream",
     "text": [
      "[ 8 12 11  8 36]\n",
      "int32\n",
      "(5,)\n",
      "5\n"
     ]
    }
   ],
   "source": [
    "l =np.random.randint(5,[10,15,20,30,40])\n",
    "print(l)\n",
    "print(l.dtype)\n",
    "print(l.shape)\n",
    "print(l.size)"
   ]
  },
  {
   "cell_type": "markdown",
   "id": "9b7f9ed1",
   "metadata": {},
   "source": [
    "# create array with single high multipal low"
   ]
  },
  {
   "cell_type": "code",
   "execution_count": 89,
   "id": "718e7e7a",
   "metadata": {},
   "outputs": [
    {
     "name": "stdout",
     "output_type": "stream",
     "text": [
      "[19 22 37]\n",
      "int32\n",
      "(3,)\n",
      "3\n"
     ]
    }
   ],
   "source": [
    "m =np.random.randint([10,20,30],40)\n",
    "print(m)\n",
    "print(m.dtype)\n",
    "print(m.shape)\n",
    "print(m.size)"
   ]
  },
  {
   "cell_type": "markdown",
   "id": "bf348197",
   "metadata": {},
   "source": [
    "# creat array with multipal low multipal high"
   ]
  },
  {
   "cell_type": "code",
   "execution_count": 92,
   "id": "509daa59",
   "metadata": {},
   "outputs": [
    {
     "name": "stdout",
     "output_type": "stream",
     "text": [
      "[3 5 3]\n",
      "int32\n",
      "(3,)\n",
      "3\n"
     ]
    }
   ],
   "source": [
    "n =np.random.randint([1,2,3],[10,20,30])\n",
    "print(n)\n",
    "print(n.dtype)\n",
    "print(n.shape)\n",
    "print(n.size)"
   ]
  },
  {
   "cell_type": "code",
   "execution_count": null,
   "id": "bcb01d46",
   "metadata": {},
   "outputs": [],
   "source": []
  }
 ],
 "metadata": {
  "kernelspec": {
   "display_name": "Python 3 (ipykernel)",
   "language": "python",
   "name": "python3"
  },
  "language_info": {
   "codemirror_mode": {
    "name": "ipython",
    "version": 3
   },
   "file_extension": ".py",
   "mimetype": "text/x-python",
   "name": "python",
   "nbconvert_exporter": "python",
   "pygments_lexer": "ipython3",
   "version": "3.9.12"
  }
 },
 "nbformat": 4,
 "nbformat_minor": 5
}
